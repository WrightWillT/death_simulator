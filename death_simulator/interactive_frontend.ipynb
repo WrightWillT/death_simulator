{
 "cells": [
  {
   "cell_type": "markdown",
   "metadata": {},
   "source": [
    "# Death Simulator"
   ]
  },
  {
   "cell_type": "code",
   "execution_count": 4,
   "metadata": {},
   "outputs": [],
   "source": [
    "#Please run this cell first by selecting the cell, clicking \"Cell\" above, and then clicking \"Run Cells\".\n",
    "import ipywidgets as widgets\n",
    "from ipywidgets import interact, interact_manual\n",
    "import pandas as pd\n",
    "import numpy as np\n",
    "import death_simulator\n",
    "import print_death_cert\n",
    "input_options_dict = death_simulator.fn_send_input_options()\n",
    "from IPython.core.display import display, HTML"
   ]
  },
  {
   "cell_type": "code",
   "execution_count": 5,
   "metadata": {},
   "outputs": [
    {
     "data": {
      "application/vnd.jupyter.widget-view+json": {
       "model_id": "69abcde6693f4ad4910c4d41217dcd11",
       "version_major": 2,
       "version_minor": 0
      },
      "text/plain": [
       "interactive(children=(Text(value='', description='Name'), Dropdown(description='Age', options=(0, 1, 2, 3, 4, …"
      ]
     },
     "metadata": {},
     "output_type": "display_data"
    }
   ],
   "source": [
    "#Please run this cell after running the cell above ^\n",
    "#run by selecting this cell, clicking \"Cell\" above, and then clicking \"Run Cells\".\n",
    "@interact_manual\n",
    "def collect_inputs_manual_gen(Name=input_options_dict[\"name\"],\n",
    "                              Age=input_options_dict[\"age\"],\n",
    "                              Occupation=input_options_dict[\"occupation\"],\n",
    "                              Gender=input_options_dict[\"new_gender\"],\n",
    "                              Race=input_options_dict[\"race\"],\n",
    "                              Exercise=input_options_dict[\"exercise\"],\n",
    "                              BMI=sorted(input_options_dict[\"bmi\"]),\n",
    "                              Height=sorted(input_options_dict[\"height\"]),\n",
    "                              #be careful of how this is sorted\n",
    "                              Weight=input_options_dict[\"weight\"],\n",
    "                              McDonalds=input_options_dict[\"mcdonalds\"]):\n",
    "    input_options_dict = {'name':Name, 'age':Age, 'job':Occupation, 'gender':Gender, 'race':Race,\n",
    "                          'exc':Exercise, 'bmi':BMI, 'height':Height, 'weight':Weight,'McD': McDonalds}\n",
    "    #return \"You will die of Atherosclerotic heart disease at the age of 88 years old on May 20th, 2080\"\n",
    "    return death_simulator.fn_send_output_string(input_options_dict)['description'], display(HTML(\n",
    "    \"\"\"<a href=\"../docs/death_certificate_{}.pdf\">\n",
    "    Right-Click and Save Link As... to download your Pre-Death Certificate\n",
    "    </a>\"\"\"\n",
    "    .format(death_simulator.fn_send_output_string(input_options_dict)['name']\n",
    "    .replace(\" \", \"%20\"))))\n",
    "#Give the simulator your information and it will determine how and when you will die."
   ]
  }
 ],
 "metadata": {
  "kernelspec": {
   "display_name": "Python 3",
   "language": "python",
   "name": "python3"
  },
  "language_info": {
   "codemirror_mode": {
    "name": "ipython",
    "version": 3
   },
   "file_extension": ".py",
   "mimetype": "text/x-python",
   "name": "python",
   "nbconvert_exporter": "python",
   "pygments_lexer": "ipython3",
   "version": "3.7.1"
  }
 },
 "nbformat": 4,
 "nbformat_minor": 2
}
